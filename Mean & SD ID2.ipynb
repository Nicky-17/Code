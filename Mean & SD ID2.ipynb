{
 "cells": [
  {
   "cell_type": "code",
   "execution_count": 2,
   "metadata": {},
   "outputs": [],
   "source": [
    "import cv2\n",
    "import numpy as np"
   ]
  },
  {
   "cell_type": "code",
   "execution_count": 3,
   "metadata": {},
   "outputs": [
    {
     "name": "stdout",
     "output_type": "stream",
     "text": [
      "Standard Deviations_id2\n",
      "33.15746690641184\n",
      "40.027605452427814\n",
      "40.21381058287913\n",
      "Mean_id2\n",
      "161.16351428571429\n",
      "178.4008462857143\n",
      "211.9599342857143\n"
     ]
    }
   ],
   "source": [
    "img = cv2.imread(\"C:/Users/Gokul Rejithkumar/Desktop/PythonDocs/ImageRecognition/idcardimages/bil.jpg\")\n",
    "b,g,r = cv2.split(img)\n",
    "\n",
    "print(\"Standard Deviations_id2\")\n",
    "print(np.std(b))\n",
    "#bluechannel\n",
    "print(np.std(g))\n",
    "#greenchannel\n",
    "print(np.std(r))\n",
    "#redchannel\n",
    "print(\"Mean_id2\")\n",
    "#Calculating mean\n",
    "print(np.mean(b))\n",
    "#bluechannel\n",
    "print(np.mean(g))\n",
    "#greenchannel\n",
    "print(np.mean(r))\n",
    "#redchannel"
   ]
  },
  {
   "cell_type": "code",
   "execution_count": 6,
   "metadata": {},
   "outputs": [
    {
     "name": "stdout",
     "output_type": "stream",
     "text": [
      "Normalized mean_id2-BGR\n",
      "0.632013781512605\n",
      "0.6996111619047619\n",
      "0.8312154285714286\n"
     ]
    }
   ],
   "source": [
    "print(\"Normalized mean_id2-BGR\")\n",
    "print(np.mean(b)/255)\n",
    "#bluechannel\n",
    "print(np.mean(g)/255)\n",
    "#greenchannel\n",
    "print(np.mean(r)/255)\n",
    "#redchannel"
   ]
  },
  {
   "cell_type": "code",
   "execution_count": null,
   "metadata": {},
   "outputs": [],
   "source": []
  }
 ],
 "metadata": {
  "kernelspec": {
   "display_name": "Python 3",
   "language": "python",
   "name": "python3"
  },
  "language_info": {
   "codemirror_mode": {
    "name": "ipython",
    "version": 3
   },
   "file_extension": ".py",
   "mimetype": "text/x-python",
   "name": "python",
   "nbconvert_exporter": "python",
   "pygments_lexer": "ipython3",
   "version": "3.7.6"
  }
 },
 "nbformat": 4,
 "nbformat_minor": 2
}
