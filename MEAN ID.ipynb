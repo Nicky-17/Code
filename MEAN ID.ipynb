{
 "cells": [
  {
   "cell_type": "code",
   "execution_count": 1,
   "metadata": {},
   "outputs": [],
   "source": [
    "import cv2\n",
    "import numpy as np"
   ]
  },
  {
   "cell_type": "code",
   "execution_count": 4,
   "metadata": {},
   "outputs": [],
   "source": [
    "\n",
    "img=cv2.imread(\"C:\\\\Users\\\\user\\\\Desktop\\\\CV\\\\id.jpg\")\n",
    "img2=cv2.imread(\"C:\\\\Users\\\\user\\\\Desktop\\\\CV\\\\idw.jpg\")"
   ]
  },
  {
   "cell_type": "code",
   "execution_count": 3,
   "metadata": {},
   "outputs": [
    {
     "ename": "AttributeError",
     "evalue": "'NoneType' object has no attribute 'shape'",
     "output_type": "error",
     "traceback": [
      "\u001b[1;31m---------------------------------------------------------------------------\u001b[0m",
      "\u001b[1;31mAttributeError\u001b[0m                            Traceback (most recent call last)",
      "\u001b[1;32m<ipython-input-3-ee800449d12c>\u001b[0m in \u001b[0;36m<module>\u001b[1;34m\u001b[0m\n\u001b[1;32m----> 1\u001b[1;33m \u001b[0mr\u001b[0m\u001b[1;33m=\u001b[0m\u001b[1;36m3\u001b[0m\u001b[1;33m/\u001b[0m\u001b[0mimg\u001b[0m\u001b[1;33m.\u001b[0m\u001b[0mshape\u001b[0m\u001b[1;33m[\u001b[0m\u001b[1;36m2\u001b[0m\u001b[1;33m]\u001b[0m \u001b[1;31m#height                            #RESIZING THE LOADED IMAGE\u001b[0m\u001b[1;33m\u001b[0m\u001b[1;33m\u001b[0m\u001b[0m\n\u001b[0m\u001b[0;32m      2\u001b[0m \u001b[0mprint\u001b[0m\u001b[1;33m(\u001b[0m\u001b[0mr\u001b[0m\u001b[1;33m)\u001b[0m\u001b[1;33m\u001b[0m\u001b[1;33m\u001b[0m\u001b[0m\n\u001b[0;32m      3\u001b[0m \u001b[0mdim\u001b[0m\u001b[1;33m=\u001b[0m\u001b[1;33m(\u001b[0m\u001b[1;36m4\u001b[0m\u001b[1;33m,\u001b[0m\u001b[0mint\u001b[0m\u001b[1;33m(\u001b[0m\u001b[0mimg\u001b[0m\u001b[1;33m.\u001b[0m\u001b[0mshape\u001b[0m\u001b[1;33m[\u001b[0m\u001b[1;36m2\u001b[0m\u001b[1;33m]\u001b[0m\u001b[1;33m*\u001b[0m\u001b[0mr\u001b[0m\u001b[1;33m)\u001b[0m\u001b[1;33m)\u001b[0m \u001b[1;31m#width\u001b[0m\u001b[1;33m\u001b[0m\u001b[1;33m\u001b[0m\u001b[0m\n\u001b[0;32m      4\u001b[0m \u001b[1;33m\u001b[0m\u001b[0m\n\u001b[0;32m      5\u001b[0m \u001b[1;33m\u001b[0m\u001b[0m\n",
      "\u001b[1;31mAttributeError\u001b[0m: 'NoneType' object has no attribute 'shape'"
     ]
    }
   ],
   "source": [
    "r=3/img.shape[2] #height                            #RESIZING THE LOADED IMAGE\n",
    "print(r)\n",
    "dim=(4,int(img.shape[2]*r)) #width\n",
    "\n",
    "\n",
    "r2=400/img2.shape[2]                            #RESIZING THE LOADED IMAGE\n",
    "print(r2)\n",
    "dim2=(400,int(img2.shape[2]*r2))\n"
   ]
  },
  {
   "cell_type": "code",
   "execution_count": 4,
   "metadata": {},
   "outputs": [],
   "source": [
    "resized_img=cv2.resize(img,dim,interpolation=cv2.INTER_AREA)          #STORING AND DISPLAYING THE RESIZED IMAGE\n",
    "resized_img2=cv2.resize(img2,dim2,interpolation=cv2.INTER_AREA)\n",
    "cv2.imshow(\"RESIZED ONE ID\",resized_img)\n",
    "cv2.imshow(\"RESIZED ONE IDW\",resized_img2)\n",
    "cv2.waitKey()\n",
    "\n",
    "cv2.destroyAllWindows()\n",
    "                                     "
   ]
  },
  {
   "cell_type": "code",
   "execution_count": 5,
   "metadata": {},
   "outputs": [
    {
     "data": {
      "text/plain": [
       "(3, 4, 3)"
      ]
     },
     "execution_count": 5,
     "metadata": {},
     "output_type": "execute_result"
    }
   ],
   "source": [
    "resized_img.shape\n"
   ]
  },
  {
   "cell_type": "code",
   "execution_count": 6,
   "metadata": {},
   "outputs": [
    {
     "name": "stdout",
     "output_type": "stream",
     "text": [
      "[[[184 206 169]\n",
      "  [191 196 156]\n",
      "  [189 200 161]\n",
      "  [184 206 171]]\n",
      "\n",
      " [[169 205 164]\n",
      "  [170 161 141]\n",
      "  [172 166 144]\n",
      "  [172 204 166]]\n",
      "\n",
      " [[156 196 153]\n",
      "  [145 163 146]\n",
      "  [146 166 149]\n",
      "  [153 189 151]]]\n"
     ]
    },
    {
     "data": {
      "text/plain": [
       "array([[169.66666667, 202.33333333, 162.        ],\n",
       "       [168.66666667, 173.33333333, 147.66666667],\n",
       "       [169.        , 177.33333333, 151.33333333],\n",
       "       [169.66666667, 199.66666667, 162.66666667]])"
      ]
     },
     "execution_count": 6,
     "metadata": {},
     "output_type": "execute_result"
    }
   ],
   "source": [
    "print(resized_img)\n",
    "np.mean(resized_img,axis=0)  ## finding the mean"
   ]
  },
  {
   "cell_type": "code",
   "execution_count": 7,
   "metadata": {},
   "outputs": [
    {
     "name": "stdout",
     "output_type": "stream",
     "text": [
      "[[[ 62  83 100]\n",
      "  [ 63  86 102]\n",
      "  [ 65  88 104]\n",
      "  ...\n",
      "  [ 78  98 115]\n",
      "  [ 76  96 114]\n",
      "  [ 77  99 117]]\n",
      "\n",
      " [[ 67  87 104]\n",
      "  [ 66  86 103]\n",
      "  [ 66  86 103]\n",
      "  ...\n",
      "  [ 78  98 115]\n",
      "  [ 79 100 118]\n",
      "  [ 79 101 119]]\n",
      "\n",
      " [[ 70  92 108]\n",
      "  [ 68  89 106]\n",
      "  [ 69  89 106]\n",
      "  ...\n",
      "  [ 74  93 110]\n",
      "  [ 75  96 113]\n",
      "  [ 73  95 112]]\n",
      "\n",
      " ...\n",
      "\n",
      " [[ 45  41  62]\n",
      "  [ 53  42  61]\n",
      "  [ 65  45  61]\n",
      "  ...\n",
      "  [ 64  80  96]\n",
      "  [ 65  81  97]\n",
      "  [ 65  81  98]]\n",
      "\n",
      " [[ 24  31  55]\n",
      "  [ 32  34  58]\n",
      "  [ 44  37  59]\n",
      "  ...\n",
      "  [ 71  86 102]\n",
      "  [ 70  86 102]\n",
      "  [ 68  84 101]]\n",
      "\n",
      " [[ 12  21  49]\n",
      "  [ 15  24  52]\n",
      "  [ 19  24  51]\n",
      "  ...\n",
      "  [ 54  68  84]\n",
      "  [ 60  74  90]\n",
      "  [ 66  81  98]]]\n"
     ]
    },
    {
     "data": {
      "text/plain": [
       "192.121"
      ]
     },
     "execution_count": 7,
     "metadata": {},
     "output_type": "execute_result"
    }
   ],
   "source": [
    "print(resized_img2)\n",
    "np.mean(resized_img2)  ## finding the mean"
   ]
  },
  {
   "cell_type": "code",
   "execution_count": 8,
   "metadata": {},
   "outputs": [
    {
     "data": {
      "text/plain": [
       "(400, 400, 3)"
      ]
     },
     "execution_count": 8,
     "metadata": {},
     "output_type": "execute_result"
    }
   ],
   "source": [
    "\n",
    "resized_img2.shape"
   ]
  },
  {
   "cell_type": "code",
   "execution_count": 9,
   "metadata": {},
   "outputs": [
    {
     "name": "stdout",
     "output_type": "stream",
     "text": [
      "THIS IS THE MATRIX OF ID\n",
      "\n",
      "\n",
      "[[[184 206 169]\n",
      "  [191 196 156]\n",
      "  [189 200 161]\n",
      "  [184 206 171]]\n",
      "\n",
      " [[169 205 164]\n",
      "  [170 161 141]\n",
      "  [172 166 144]\n",
      "  [172 204 166]]\n",
      "\n",
      " [[156 196 153]\n",
      "  [145 163 146]\n",
      "  [146 166 149]\n",
      "  [153 189 151]]]\n",
      "\n",
      "\n",
      "THIS IS THE MATRIX OF IDW\n",
      "\n",
      "\n",
      "[[[ 62  83 100]\n",
      "  [ 63  86 102]\n",
      "  [ 65  88 104]\n",
      "  ...\n",
      "  [ 78  98 115]\n",
      "  [ 76  96 114]\n",
      "  [ 77  99 117]]\n",
      "\n",
      " [[ 67  87 104]\n",
      "  [ 66  86 103]\n",
      "  [ 66  86 103]\n",
      "  ...\n",
      "  [ 78  98 115]\n",
      "  [ 79 100 118]\n",
      "  [ 79 101 119]]\n",
      "\n",
      " [[ 70  92 108]\n",
      "  [ 68  89 106]\n",
      "  [ 69  89 106]\n",
      "  ...\n",
      "  [ 74  93 110]\n",
      "  [ 75  96 113]\n",
      "  [ 73  95 112]]\n",
      "\n",
      " ...\n",
      "\n",
      " [[ 45  41  62]\n",
      "  [ 53  42  61]\n",
      "  [ 65  45  61]\n",
      "  ...\n",
      "  [ 64  80  96]\n",
      "  [ 65  81  97]\n",
      "  [ 65  81  98]]\n",
      "\n",
      " [[ 24  31  55]\n",
      "  [ 32  34  58]\n",
      "  [ 44  37  59]\n",
      "  ...\n",
      "  [ 71  86 102]\n",
      "  [ 70  86 102]\n",
      "  [ 68  84 101]]\n",
      "\n",
      " [[ 12  21  49]\n",
      "  [ 15  24  52]\n",
      "  [ 19  24  51]\n",
      "  ...\n",
      "  [ 54  68  84]\n",
      "  [ 60  74  90]\n",
      "  [ 66  81  98]]]\n"
     ]
    }
   ],
   "source": [
    "print(\"THIS IS THE MATRIX OF ID\")\n",
    "print('\\n')\n",
    "print(resized_img)\n",
    "print('\\n')\n",
    "print(\"THIS IS THE MATRIX OF IDW\")\n",
    "print('\\n')\n",
    "print(resized_img2)"
   ]
  },
  {
   "cell_type": "code",
   "execution_count": 10,
   "metadata": {},
   "outputs": [],
   "source": [
    "gray_img=cv2.cvtColor(resized_img,cv2.COLOR_BGR2GRAY)\n",
    "gray_img2=cv2.cvtColor(resized_img2,cv2.COLOR_BGR2GRAY)\n",
    "cv2.imshow(\"ID\",gray_img)\n",
    "cv2.imshow(\"IDW\",gray_img2)\n",
    "cv2.waitKey(0)\n",
    "cv2.destroyAllWindows()\n",
    "                    "
   ]
  },
  {
   "cell_type": "code",
   "execution_count": 11,
   "metadata": {},
   "outputs": [
    {
     "data": {
      "text/plain": [
       "(3, 4)"
      ]
     },
     "execution_count": 11,
     "metadata": {},
     "output_type": "execute_result"
    }
   ],
   "source": [
    "gray_img.shape"
   ]
  },
  {
   "cell_type": "code",
   "execution_count": 12,
   "metadata": {},
   "outputs": [
    {
     "name": "stdout",
     "output_type": "stream",
     "text": [
      "[[192 183 187 193]\n",
      " [189 156 160 189]\n",
      " [179 156 159 174]]\n"
     ]
    }
   ],
   "source": [
    "\n",
    "print(gray_img)"
   ]
  },
  {
   "cell_type": "code",
   "execution_count": 13,
   "metadata": {},
   "outputs": [
    {
     "data": {
      "text/plain": [
       "array([186.66666667, 165.        , 168.66666667, 185.33333333])"
      ]
     },
     "execution_count": 13,
     "metadata": {},
     "output_type": "execute_result"
    }
   ],
   "source": [
    "np.mean(gray_img,axis=0)"
   ]
  },
  {
   "cell_type": "code",
   "execution_count": 14,
   "metadata": {},
   "outputs": [
    {
     "data": {
      "text/plain": [
       "(400, 400)"
      ]
     },
     "execution_count": 14,
     "metadata": {},
     "output_type": "execute_result"
    }
   ],
   "source": [
    "gray_img2.shape"
   ]
  },
  {
   "cell_type": "code",
   "execution_count": 15,
   "metadata": {},
   "outputs": [
    {
     "name": "stdout",
     "output_type": "stream",
     "text": [
      "THIS IS THE 2D MATRIX OF ID\n",
      "\n",
      "\n",
      "[[192 183 187 193]\n",
      " [189 156 160 189]\n",
      " [179 156 159 174]]\n",
      "\n",
      "\n",
      "THIS IS THE 2D MATRIX OF IDW\n",
      "\n",
      "\n",
      "[[ 86  88  90 ... 101  99 102]\n",
      " [ 90  89  89 ... 101 103 104]\n",
      " [ 94  92  92 ...  96  99  98]\n",
      " ...\n",
      " [ 48  49  52 ...  83  84  84]\n",
      " [ 37  41  44 ...  89  89  87]\n",
      " [ 28  31  32 ...  71  77  84]]\n"
     ]
    }
   ],
   "source": [
    "print(\"THIS IS THE 2D MATRIX OF ID\")\n",
    "print('\\n')\n",
    "print(gray_img)\n",
    "print('\\n')\n",
    "print(\"THIS IS THE 2D MATRIX OF IDW\")\n",
    "print('\\n')\n",
    "print(gray_img2)"
   ]
  }
 ],
 "metadata": {
  "kernelspec": {
   "display_name": "Python 3",
   "language": "python",
   "name": "python3"
  },
  "language_info": {
   "codemirror_mode": {
    "name": "ipython",
    "version": 3
   },
   "file_extension": ".py",
   "mimetype": "text/x-python",
   "name": "python",
   "nbconvert_exporter": "python",
   "pygments_lexer": "ipython3",
   "version": "3.7.6"
  }
 },
 "nbformat": 4,
 "nbformat_minor": 2
}
